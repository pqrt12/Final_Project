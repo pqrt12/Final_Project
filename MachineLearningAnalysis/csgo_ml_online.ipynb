{
 "cells": [
  {
   "cell_type": "code",
   "execution_count": 1,
   "metadata": {},
   "outputs": [],
   "source": [
    "# %load csgo_ml_online.py\n",
    "import pandas as pd\n",
    "import pickle\n",
    "import numpy as np\n",
    "import sys\n",
    "\n",
    "## filenames\n",
    "res_dir = '../Resources/'\n",
    "template_filename = 'template.csv'\n",
    "lr_model_filename = 'lr_model.pkl'\n",
    "svm_model_filename = 'svm_model.pkl'\n",
    "rf_classifier_filename = 'rf_classifier.pkl'\n",
    "\n",
    "# input template and model\n",
    "temp_X_df = pd.read_csv(res_dir + template_filename)\n",
    "temp_X_df\n",
    "\n",
    "\n",
    "# #### last one counts\n",
    "# load LR model\n",
    "with open(res_dir + lr_model_filename, 'rb') as fd:\n",
    "    model = pickle.load(fd)\n",
    "\n",
    "'''\n",
    "# load SVM model\n",
    "with open(res_dir + svm_model_filename, 'rb') as fd:\n",
    "    model = pickle.load(fd)# load RandomForest Classifier\n",
    "with open(res_dir + rf_classifier_filename, 'rb') as fd:\n",
    "    model = pickle.load(fd)\n",
    "# ### comment out in production\n",
    "'''\n",
    "\n",
    "def debug_print(*args):\n",
    "    print(args)\n",
    "\n",
    "# get the model input df\n",
    "def get_X(team1, team2):\n",
    "    t1 = 'team_1_' + team1\n",
    "    t2 = 'team_2_' + team2\n",
    "\n",
    "    cnt = 0\n",
    "    x = [0] * temp_X_df.shape[1]\n",
    "    for i, col_name in enumerate(temp_X_df.columns):\n",
    "        if (t1 == col_name) or (t2 == col_name):\n",
    "            x[i] = 1\n",
    "            cnt += 1\n",
    "    if cnt == 2:\n",
    "        return pd.DataFrame(data=[x], dtype=np.int8, columns=temp_X_df.columns)\n",
    "    return temp_X_df\n",
    "\n",
    "# internal ML_predict\n",
    "def ML_predict_(team1, team2):\n",
    "    if (len(team1) == 0) or (len(team2) == 0):\n",
    "        print(f\"invalid inputs: '{team1}', '{team2}'\")\n",
    "        return {}\n",
    "\n",
    "    # normal try\n",
    "    X = get_X(team1, team2)\n",
    "    if X.shape[0]:\n",
    "        # get the winning probability\n",
    "        p_pred = model.predict_proba(X)\n",
    "        p = p_pred[0]\n",
    "        res = {team1 : p[0], team2: p[1]}\n",
    "        return res\n",
    "\n",
    "    # work harder? => swapping team order\n",
    "    X = get_X(team2, team1)\n",
    "    if X.shape[0]:\n",
    "        # get the winning probability\n",
    "        p_pred = model.predict_proba(X)\n",
    "        p = p_pred[0]\n",
    "        # p_pred swapped !!!\n",
    "        res = {team1 : p[1], team2: p[0]}\n",
    "        print(f\"swapping teams order: '{team1}', '{team2}'\")\n",
    "        return res\n",
    "\n",
    "    print(f\"cannot find team pair: '{team1}', '{team2}'\")\n",
    "    return {team1 :0.5, team2: 0.5}\n",
    "\n",
    "# public API\n",
    "def ML_predict(team1, team2):\n",
    "    res = ML_predict_(team1, team2)\n",
    "    debug_print(f'result: {res}')\n",
    "    return res\n",
    "\n"
   ]
  },
  {
   "cell_type": "markdown",
   "metadata": {},
   "source": [
    "### examples"
   ]
  },
  {
   "cell_type": "code",
   "execution_count": 2,
   "metadata": {},
   "outputs": [
    {
     "name": "stdout",
     "output_type": "stream",
     "text": [
      "(\"result: {'100 Thieves': 0.02371558758513581, 'x6tence Galaxy': 0.9762844124148642}\",)\n"
     ]
    },
    {
     "data": {
      "text/plain": [
       "{'100 Thieves': 0.02371558758513581, 'x6tence Galaxy': 0.9762844124148642}"
      ]
     },
     "execution_count": 2,
     "metadata": {},
     "output_type": "execute_result"
    }
   ],
   "source": [
    "# valid input\n",
    "ML_predict('100 Thieves', 'x6tence Galaxy')"
   ]
  },
  {
   "cell_type": "code",
   "execution_count": 3,
   "metadata": {},
   "outputs": [
    {
     "name": "stdout",
     "output_type": "stream",
     "text": [
      "(\"result: {'x6tence Galaxy': 0.3726972155683015, '100 Thieves': 0.6273027844316985}\",)\n"
     ]
    },
    {
     "data": {
      "text/plain": [
       "{'x6tence Galaxy': 0.3726972155683015, '100 Thieves': 0.6273027844316985}"
      ]
     },
     "execution_count": 3,
     "metadata": {},
     "output_type": "execute_result"
    }
   ],
   "source": [
    "# valid input, cannot believe the winning percentage change !!!\n",
    "ML_predict('x6tence Galaxy', '100 Thieves')"
   ]
  },
  {
   "cell_type": "code",
   "execution_count": 4,
   "metadata": {},
   "outputs": [
    {
     "name": "stdout",
     "output_type": "stream",
     "text": [
      "invalid inputs: '', 'x6tence Galaxy'\n",
      "('result: {}',)\n"
     ]
    },
    {
     "data": {
      "text/plain": [
       "{}"
      ]
     },
     "execution_count": 4,
     "metadata": {},
     "output_type": "execute_result"
    }
   ],
   "source": [
    "# invalid input\n",
    "ML_predict('', 'x6tence Galaxy')"
   ]
  },
  {
   "cell_type": "code",
   "execution_count": 5,
   "metadata": {},
   "outputs": [
    {
     "name": "stdout",
     "output_type": "stream",
     "text": [
      "cannot find team pair: 'random', '100 Thieves'\n",
      "(\"result: {'random': 0.5, '100 Thieves': 0.5}\",)\n"
     ]
    },
    {
     "data": {
      "text/plain": [
       "{'random': 0.5, '100 Thieves': 0.5}"
      ]
     },
     "execution_count": 5,
     "metadata": {},
     "output_type": "execute_result"
    }
   ],
   "source": [
    "# no support.\n",
    "ML_predict('random', '100 Thieves')"
   ]
  },
  {
   "cell_type": "code",
   "execution_count": null,
   "metadata": {},
   "outputs": [],
   "source": []
  }
 ],
 "metadata": {
  "kernelspec": {
   "display_name": "mlenv",
   "language": "python",
   "name": "mlenv"
  },
  "language_info": {
   "codemirror_mode": {
    "name": "ipython",
    "version": 3
   },
   "file_extension": ".py",
   "mimetype": "text/x-python",
   "name": "python",
   "nbconvert_exporter": "python",
   "pygments_lexer": "ipython3",
   "version": "3.7.7"
  }
 },
 "nbformat": 4,
 "nbformat_minor": 4
}
