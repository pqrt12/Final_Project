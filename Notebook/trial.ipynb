{
 "cells": [
  {
   "cell_type": "code",
   "execution_count": 1,
   "metadata": {},
   "outputs": [],
   "source": [
    "# Import our dependencies\n",
    "import pandas as pd\n",
    "import numpy as np"
   ]
  },
  {
   "cell_type": "code",
   "execution_count": 2,
   "metadata": {},
   "outputs": [
    {
     "data": {
      "text/plain": [
       "(43234, 99)"
      ]
     },
     "execution_count": 2,
     "metadata": {},
     "output_type": "execute_result"
    }
   ],
   "source": [
    "# Import our input dataset\n",
    "econ_df = pd.read_csv('../Resources/economy.csv.zip', low_memory=False)\n",
    "econ_df.shape"
   ]
  },
  {
   "cell_type": "code",
   "execution_count": 3,
   "metadata": {},
   "outputs": [
    {
     "data": {
      "text/plain": [
       "(16035, 17)"
      ]
     },
     "execution_count": 3,
     "metadata": {},
     "output_type": "execute_result"
    }
   ],
   "source": [
    "picks_df = pd.read_csv('../Resources/picks.csv.zip')\n",
    "picks_df.shape"
   ]
  },
  {
   "cell_type": "code",
   "execution_count": 4,
   "metadata": {},
   "outputs": [
    {
     "data": {
      "text/plain": [
       "(383317, 101)"
      ]
     },
     "execution_count": 4,
     "metadata": {},
     "output_type": "execute_result"
    }
   ],
   "source": [
    "players_df = pd.read_csv('../Resources/players.csv.zip')\n",
    "players_df.shape"
   ]
  },
  {
   "cell_type": "code",
   "execution_count": 5,
   "metadata": {},
   "outputs": [
    {
     "data": {
      "text/plain": [
       "(45773, 19)"
      ]
     },
     "execution_count": 5,
     "metadata": {},
     "output_type": "execute_result"
    }
   ],
   "source": [
    "results_df = pd.read_csv('../Resources/results.csv.zip')\n",
    "results_df.shape"
   ]
  },
  {
   "cell_type": "markdown",
   "metadata": {},
   "source": [
    "**economy**"
   ]
  },
  {
   "cell_type": "code",
   "execution_count": 6,
   "metadata": {},
   "outputs": [
    {
     "data": {
      "text/html": [
       "<div>\n",
       "<style scoped>\n",
       "    .dataframe tbody tr th:only-of-type {\n",
       "        vertical-align: middle;\n",
       "    }\n",
       "\n",
       "    .dataframe tbody tr th {\n",
       "        vertical-align: top;\n",
       "    }\n",
       "\n",
       "    .dataframe thead th {\n",
       "        text-align: right;\n",
       "    }\n",
       "</style>\n",
       "<table border=\"1\" class=\"dataframe\">\n",
       "  <thead>\n",
       "    <tr style=\"text-align: right;\">\n",
       "      <th></th>\n",
       "      <th>date</th>\n",
       "      <th>match_id</th>\n",
       "      <th>event_id</th>\n",
       "      <th>team_1</th>\n",
       "      <th>team_2</th>\n",
       "      <th>best_of</th>\n",
       "      <th>_map</th>\n",
       "      <th>t1_start</th>\n",
       "      <th>t2_start</th>\n",
       "      <th>1_t1</th>\n",
       "      <th>...</th>\n",
       "      <th>21_winner</th>\n",
       "      <th>22_winner</th>\n",
       "      <th>23_winner</th>\n",
       "      <th>24_winner</th>\n",
       "      <th>25_winner</th>\n",
       "      <th>26_winner</th>\n",
       "      <th>27_winner</th>\n",
       "      <th>28_winner</th>\n",
       "      <th>29_winner</th>\n",
       "      <th>30_winner</th>\n",
       "    </tr>\n",
       "  </thead>\n",
       "  <tbody>\n",
       "    <tr>\n",
       "      <th>0</th>\n",
       "      <td>2020-03-01</td>\n",
       "      <td>2339402</td>\n",
       "      <td>4901</td>\n",
       "      <td>G2</td>\n",
       "      <td>Natus Vincere</td>\n",
       "      <td>5</td>\n",
       "      <td>Nuke</td>\n",
       "      <td>t</td>\n",
       "      <td>ct</td>\n",
       "      <td>4350.0</td>\n",
       "      <td>...</td>\n",
       "      <td>NaN</td>\n",
       "      <td>NaN</td>\n",
       "      <td>NaN</td>\n",
       "      <td>NaN</td>\n",
       "      <td>NaN</td>\n",
       "      <td>NaN</td>\n",
       "      <td>NaN</td>\n",
       "      <td>NaN</td>\n",
       "      <td>NaN</td>\n",
       "      <td>NaN</td>\n",
       "    </tr>\n",
       "    <tr>\n",
       "      <th>1</th>\n",
       "      <td>2020-03-01</td>\n",
       "      <td>2339402</td>\n",
       "      <td>4901</td>\n",
       "      <td>G2</td>\n",
       "      <td>Natus Vincere</td>\n",
       "      <td>5</td>\n",
       "      <td>Dust2</td>\n",
       "      <td>ct</td>\n",
       "      <td>t</td>\n",
       "      <td>3900.0</td>\n",
       "      <td>...</td>\n",
       "      <td>2.0</td>\n",
       "      <td>1.0</td>\n",
       "      <td>1.0</td>\n",
       "      <td>1.0</td>\n",
       "      <td>1.0</td>\n",
       "      <td>1.0</td>\n",
       "      <td>2.0</td>\n",
       "      <td>2.0</td>\n",
       "      <td>2.0</td>\n",
       "      <td>NaN</td>\n",
       "    </tr>\n",
       "    <tr>\n",
       "      <th>2</th>\n",
       "      <td>2020-03-01</td>\n",
       "      <td>2339402</td>\n",
       "      <td>4901</td>\n",
       "      <td>G2</td>\n",
       "      <td>Natus Vincere</td>\n",
       "      <td>5</td>\n",
       "      <td>Mirage</td>\n",
       "      <td>t</td>\n",
       "      <td>ct</td>\n",
       "      <td>4150.0</td>\n",
       "      <td>...</td>\n",
       "      <td>NaN</td>\n",
       "      <td>NaN</td>\n",
       "      <td>NaN</td>\n",
       "      <td>NaN</td>\n",
       "      <td>NaN</td>\n",
       "      <td>NaN</td>\n",
       "      <td>NaN</td>\n",
       "      <td>NaN</td>\n",
       "      <td>NaN</td>\n",
       "      <td>NaN</td>\n",
       "    </tr>\n",
       "  </tbody>\n",
       "</table>\n",
       "<p>3 rows × 99 columns</p>\n",
       "</div>"
      ],
      "text/plain": [
       "         date  match_id  event_id team_1         team_2 best_of    _map  \\\n",
       "0  2020-03-01   2339402      4901     G2  Natus Vincere       5    Nuke   \n",
       "1  2020-03-01   2339402      4901     G2  Natus Vincere       5   Dust2   \n",
       "2  2020-03-01   2339402      4901     G2  Natus Vincere       5  Mirage   \n",
       "\n",
       "  t1_start t2_start    1_t1  ...  21_winner  22_winner  23_winner  24_winner  \\\n",
       "0        t       ct  4350.0  ...        NaN        NaN        NaN        NaN   \n",
       "1       ct        t  3900.0  ...        2.0        1.0        1.0        1.0   \n",
       "2        t       ct  4150.0  ...        NaN        NaN        NaN        NaN   \n",
       "\n",
       "   25_winner  26_winner  27_winner  28_winner  29_winner  30_winner  \n",
       "0        NaN        NaN        NaN        NaN        NaN        NaN  \n",
       "1        1.0        1.0        2.0        2.0        2.0        NaN  \n",
       "2        NaN        NaN        NaN        NaN        NaN        NaN  \n",
       "\n",
       "[3 rows x 99 columns]"
      ]
     },
     "execution_count": 6,
     "metadata": {},
     "output_type": "execute_result"
    }
   ],
   "source": [
    "econ_df.head(3)"
   ]
  },
  {
   "cell_type": "code",
   "execution_count": 7,
   "metadata": {},
   "outputs": [
    {
     "data": {
      "text/plain": [
       "array(['date', 'match_id', 'event_id', 'team_1', 'team_2', 'best_of',\n",
       "       '_map', 't1_start', 't2_start', '1_t1', '2_t1', '3_t1', '4_t1',\n",
       "       '5_t1', '6_t1', '7_t1', '8_t1', '9_t1', '10_t1', '11_t1', '12_t1',\n",
       "       '13_t1', '14_t1', '15_t1', '16_t1', '17_t1', '18_t1', '19_t1',\n",
       "       '20_t1', '21_t1', '22_t1', '23_t1', '24_t1', '25_t1', '26_t1',\n",
       "       '27_t1', '28_t1', '29_t1', '30_t1', '1_t2', '2_t2', '3_t2', '4_t2',\n",
       "       '5_t2', '6_t2', '7_t2', '8_t2', '9_t2', '10_t2', '11_t2', '12_t2',\n",
       "       '13_t2', '14_t2', '15_t2', '16_t2', '17_t2', '18_t2', '19_t2',\n",
       "       '20_t2', '21_t2', '22_t2', '23_t2', '24_t2', '25_t2', '26_t2',\n",
       "       '27_t2', '28_t2', '29_t2', '30_t2', '1_winner', '2_winner',\n",
       "       '3_winner', '4_winner', '5_winner', '6_winner', '7_winner',\n",
       "       '8_winner', '9_winner', '10_winner', '11_winner', '12_winner',\n",
       "       '13_winner', '14_winner', '15_winner', '16_winner', '17_winner',\n",
       "       '18_winner', '19_winner', '20_winner', '21_winner', '22_winner',\n",
       "       '23_winner', '24_winner', '25_winner', '26_winner', '27_winner',\n",
       "       '28_winner', '29_winner', '30_winner'], dtype=object)"
      ]
     },
     "execution_count": 7,
     "metadata": {},
     "output_type": "execute_result"
    }
   ],
   "source": [
    "econ_df.columns.values"
   ]
  },
  {
   "cell_type": "code",
   "execution_count": 35,
   "metadata": {},
   "outputs": [
    {
     "data": {
      "text/plain": [
       "4300.0     7978\n",
       "4250.0     6457\n",
       "4200.0     5922\n",
       "4350.0     3722\n",
       "4150.0     3478\n",
       "           ... \n",
       "2350.0        1\n",
       "5350.0        1\n",
       "18850.0       1\n",
       "1500.0        1\n",
       "6650.0        1\n",
       "Name: 1_t1, Length: 103, dtype: int64"
      ]
     },
     "execution_count": 35,
     "metadata": {},
     "output_type": "execute_result"
    }
   ],
   "source": [
    "econ_df['1_t1'].value_counts()"
   ]
  },
  {
   "cell_type": "code",
   "execution_count": 34,
   "metadata": {},
   "outputs": [
    {
     "data": {
      "text/html": [
       "<div>\n",
       "<style scoped>\n",
       "    .dataframe tbody tr th:only-of-type {\n",
       "        vertical-align: middle;\n",
       "    }\n",
       "\n",
       "    .dataframe tbody tr th {\n",
       "        vertical-align: top;\n",
       "    }\n",
       "\n",
       "    .dataframe thead th {\n",
       "        text-align: right;\n",
       "    }\n",
       "</style>\n",
       "<table border=\"1\" class=\"dataframe\">\n",
       "  <thead>\n",
       "    <tr style=\"text-align: right;\">\n",
       "      <th></th>\n",
       "      <th>1_t2</th>\n",
       "      <th>2_t2</th>\n",
       "      <th>10_t2</th>\n",
       "      <th>20_t2</th>\n",
       "      <th>29_t2</th>\n",
       "      <th>30_t2</th>\n",
       "    </tr>\n",
       "  </thead>\n",
       "  <tbody>\n",
       "    <tr>\n",
       "      <th>count</th>\n",
       "      <td>43234.000000</td>\n",
       "      <td>43234.000000</td>\n",
       "      <td>43234.000000</td>\n",
       "      <td>39701.000000</td>\n",
       "      <td>11623.000000</td>\n",
       "      <td>7899.000000</td>\n",
       "    </tr>\n",
       "    <tr>\n",
       "      <th>mean</th>\n",
       "      <td>4157.717306</td>\n",
       "      <td>12459.631309</td>\n",
       "      <td>22550.455660</td>\n",
       "      <td>21546.547946</td>\n",
       "      <td>23380.598813</td>\n",
       "      <td>24454.874035</td>\n",
       "    </tr>\n",
       "    <tr>\n",
       "      <th>std</th>\n",
       "      <td>349.046721</td>\n",
       "      <td>7079.419147</td>\n",
       "      <td>8707.857659</td>\n",
       "      <td>8316.381583</td>\n",
       "      <td>7566.749431</td>\n",
       "      <td>6101.657098</td>\n",
       "    </tr>\n",
       "    <tr>\n",
       "      <th>min</th>\n",
       "      <td>0.000000</td>\n",
       "      <td>0.000000</td>\n",
       "      <td>0.000000</td>\n",
       "      <td>0.000000</td>\n",
       "      <td>0.000000</td>\n",
       "      <td>6100.000000</td>\n",
       "    </tr>\n",
       "    <tr>\n",
       "      <th>25%</th>\n",
       "      <td>4100.000000</td>\n",
       "      <td>6550.000000</td>\n",
       "      <td>20900.000000</td>\n",
       "      <td>19450.000000</td>\n",
       "      <td>21000.000000</td>\n",
       "      <td>20900.000000</td>\n",
       "    </tr>\n",
       "    <tr>\n",
       "      <th>50%</th>\n",
       "      <td>4250.000000</td>\n",
       "      <td>14450.000000</td>\n",
       "      <td>25500.000000</td>\n",
       "      <td>24300.000000</td>\n",
       "      <td>25500.000000</td>\n",
       "      <td>25700.000000</td>\n",
       "    </tr>\n",
       "    <tr>\n",
       "      <th>75%</th>\n",
       "      <td>4300.000000</td>\n",
       "      <td>19100.000000</td>\n",
       "      <td>28150.000000</td>\n",
       "      <td>26950.000000</td>\n",
       "      <td>28150.000000</td>\n",
       "      <td>28500.000000</td>\n",
       "    </tr>\n",
       "    <tr>\n",
       "      <th>max</th>\n",
       "      <td>18250.000000</td>\n",
       "      <td>33000.000000</td>\n",
       "      <td>41650.000000</td>\n",
       "      <td>40750.000000</td>\n",
       "      <td>47450.000000</td>\n",
       "      <td>51900.000000</td>\n",
       "    </tr>\n",
       "  </tbody>\n",
       "</table>\n",
       "</div>"
      ],
      "text/plain": [
       "               1_t2          2_t2         10_t2         20_t2         29_t2  \\\n",
       "count  43234.000000  43234.000000  43234.000000  39701.000000  11623.000000   \n",
       "mean    4157.717306  12459.631309  22550.455660  21546.547946  23380.598813   \n",
       "std      349.046721   7079.419147   8707.857659   8316.381583   7566.749431   \n",
       "min        0.000000      0.000000      0.000000      0.000000      0.000000   \n",
       "25%     4100.000000   6550.000000  20900.000000  19450.000000  21000.000000   \n",
       "50%     4250.000000  14450.000000  25500.000000  24300.000000  25500.000000   \n",
       "75%     4300.000000  19100.000000  28150.000000  26950.000000  28150.000000   \n",
       "max    18250.000000  33000.000000  41650.000000  40750.000000  47450.000000   \n",
       "\n",
       "              30_t2  \n",
       "count   7899.000000  \n",
       "mean   24454.874035  \n",
       "std     6101.657098  \n",
       "min     6100.000000  \n",
       "25%    20900.000000  \n",
       "50%    25700.000000  \n",
       "75%    28500.000000  \n",
       "max    51900.000000  "
      ]
     },
     "execution_count": 34,
     "metadata": {},
     "output_type": "execute_result"
    }
   ],
   "source": [
    "econ_df[['1_t2', '2_t2', '10_t2', '20_t2', '29_t2', '30_t2']].describe()"
   ]
  },
  {
   "cell_type": "code",
   "execution_count": null,
   "metadata": {},
   "outputs": [],
   "source": []
  },
  {
   "cell_type": "code",
   "execution_count": null,
   "metadata": {},
   "outputs": [],
   "source": []
  },
  {
   "cell_type": "code",
   "execution_count": null,
   "metadata": {},
   "outputs": [],
   "source": []
  },
  {
   "cell_type": "markdown",
   "metadata": {},
   "source": [
    "**picks**"
   ]
  },
  {
   "cell_type": "code",
   "execution_count": 8,
   "metadata": {},
   "outputs": [
    {
     "data": {
      "text/html": [
       "<div>\n",
       "<style scoped>\n",
       "    .dataframe tbody tr th:only-of-type {\n",
       "        vertical-align: middle;\n",
       "    }\n",
       "\n",
       "    .dataframe tbody tr th {\n",
       "        vertical-align: top;\n",
       "    }\n",
       "\n",
       "    .dataframe thead th {\n",
       "        text-align: right;\n",
       "    }\n",
       "</style>\n",
       "<table border=\"1\" class=\"dataframe\">\n",
       "  <thead>\n",
       "    <tr style=\"text-align: right;\">\n",
       "      <th></th>\n",
       "      <th>date</th>\n",
       "      <th>team_1</th>\n",
       "      <th>team_2</th>\n",
       "      <th>inverted_teams</th>\n",
       "      <th>match_id</th>\n",
       "      <th>event_id</th>\n",
       "      <th>best_of</th>\n",
       "      <th>system</th>\n",
       "      <th>t1_removed_1</th>\n",
       "      <th>t1_removed_2</th>\n",
       "      <th>t1_removed_3</th>\n",
       "      <th>t2_removed_1</th>\n",
       "      <th>t2_removed_2</th>\n",
       "      <th>t2_removed_3</th>\n",
       "      <th>t1_picked_1</th>\n",
       "      <th>t2_picked_1</th>\n",
       "      <th>left_over</th>\n",
       "    </tr>\n",
       "  </thead>\n",
       "  <tbody>\n",
       "    <tr>\n",
       "      <th>0</th>\n",
       "      <td>2020-03-18</td>\n",
       "      <td>TeamOne</td>\n",
       "      <td>Recon 5</td>\n",
       "      <td>1</td>\n",
       "      <td>2340454</td>\n",
       "      <td>5151</td>\n",
       "      <td>3</td>\n",
       "      <td>123412</td>\n",
       "      <td>Vertigo</td>\n",
       "      <td>Train</td>\n",
       "      <td>0.0</td>\n",
       "      <td>Nuke</td>\n",
       "      <td>Overpass</td>\n",
       "      <td>0.0</td>\n",
       "      <td>Dust2</td>\n",
       "      <td>Inferno</td>\n",
       "      <td>Mirage</td>\n",
       "    </tr>\n",
       "    <tr>\n",
       "      <th>1</th>\n",
       "      <td>2020-03-18</td>\n",
       "      <td>Rugratz</td>\n",
       "      <td>Bad News Bears</td>\n",
       "      <td>0</td>\n",
       "      <td>2340453</td>\n",
       "      <td>5151</td>\n",
       "      <td>3</td>\n",
       "      <td>123412</td>\n",
       "      <td>Dust2</td>\n",
       "      <td>Nuke</td>\n",
       "      <td>0.0</td>\n",
       "      <td>Mirage</td>\n",
       "      <td>Train</td>\n",
       "      <td>0.0</td>\n",
       "      <td>Vertigo</td>\n",
       "      <td>Inferno</td>\n",
       "      <td>Overpass</td>\n",
       "    </tr>\n",
       "    <tr>\n",
       "      <th>2</th>\n",
       "      <td>2020-03-18</td>\n",
       "      <td>New England Whalers</td>\n",
       "      <td>Station7</td>\n",
       "      <td>0</td>\n",
       "      <td>2340461</td>\n",
       "      <td>5243</td>\n",
       "      <td>1</td>\n",
       "      <td>121212</td>\n",
       "      <td>Mirage</td>\n",
       "      <td>Dust2</td>\n",
       "      <td>Vertigo</td>\n",
       "      <td>Nuke</td>\n",
       "      <td>Train</td>\n",
       "      <td>Overpass</td>\n",
       "      <td>0.0</td>\n",
       "      <td>0.0</td>\n",
       "      <td>Inferno</td>\n",
       "    </tr>\n",
       "  </tbody>\n",
       "</table>\n",
       "</div>"
      ],
      "text/plain": [
       "         date               team_1          team_2  inverted_teams  match_id  \\\n",
       "0  2020-03-18              TeamOne         Recon 5               1   2340454   \n",
       "1  2020-03-18              Rugratz  Bad News Bears               0   2340453   \n",
       "2  2020-03-18  New England Whalers        Station7               0   2340461   \n",
       "\n",
       "   event_id best_of  system t1_removed_1 t1_removed_2 t1_removed_3  \\\n",
       "0      5151       3  123412      Vertigo        Train          0.0   \n",
       "1      5151       3  123412        Dust2         Nuke          0.0   \n",
       "2      5243       1  121212       Mirage        Dust2      Vertigo   \n",
       "\n",
       "  t2_removed_1 t2_removed_2 t2_removed_3 t1_picked_1 t2_picked_1 left_over  \n",
       "0         Nuke     Overpass          0.0       Dust2     Inferno    Mirage  \n",
       "1       Mirage        Train          0.0     Vertigo     Inferno  Overpass  \n",
       "2         Nuke        Train     Overpass         0.0         0.0   Inferno  "
      ]
     },
     "execution_count": 8,
     "metadata": {},
     "output_type": "execute_result"
    }
   ],
   "source": [
    "picks_df.head(3)"
   ]
  },
  {
   "cell_type": "code",
   "execution_count": 20,
   "metadata": {},
   "outputs": [
    {
     "data": {
      "text/plain": [
       "3            10142\n",
       "1             5656\n",
       "2              224\n",
       "3.               3\n",
       "of               3\n",
       "3(LAN)           3\n",
       "1(Online)        2\n",
       "2(Online)        1\n",
       "3(Online)        1\n",
       "Name: best_of, dtype: int64"
      ]
     },
     "execution_count": 20,
     "metadata": {},
     "output_type": "execute_result"
    }
   ],
   "source": [
    "picks_df['best_of'].value_counts()"
   ]
  },
  {
   "cell_type": "code",
   "execution_count": null,
   "metadata": {},
   "outputs": [],
   "source": []
  },
  {
   "cell_type": "code",
   "execution_count": null,
   "metadata": {},
   "outputs": [],
   "source": []
  },
  {
   "cell_type": "code",
   "execution_count": null,
   "metadata": {},
   "outputs": [],
   "source": []
  },
  {
   "cell_type": "code",
   "execution_count": null,
   "metadata": {},
   "outputs": [],
   "source": []
  },
  {
   "cell_type": "code",
   "execution_count": null,
   "metadata": {},
   "outputs": [],
   "source": []
  },
  {
   "cell_type": "code",
   "execution_count": null,
   "metadata": {},
   "outputs": [],
   "source": []
  },
  {
   "cell_type": "markdown",
   "metadata": {},
   "source": [
    "**players**"
   ]
  },
  {
   "cell_type": "code",
   "execution_count": 9,
   "metadata": {},
   "outputs": [
    {
     "data": {
      "text/html": [
       "<div>\n",
       "<style scoped>\n",
       "    .dataframe tbody tr th:only-of-type {\n",
       "        vertical-align: middle;\n",
       "    }\n",
       "\n",
       "    .dataframe tbody tr th {\n",
       "        vertical-align: top;\n",
       "    }\n",
       "\n",
       "    .dataframe thead th {\n",
       "        text-align: right;\n",
       "    }\n",
       "</style>\n",
       "<table border=\"1\" class=\"dataframe\">\n",
       "  <thead>\n",
       "    <tr style=\"text-align: right;\">\n",
       "      <th></th>\n",
       "      <th>date</th>\n",
       "      <th>player_name</th>\n",
       "      <th>team</th>\n",
       "      <th>opponent</th>\n",
       "      <th>country</th>\n",
       "      <th>player_id</th>\n",
       "      <th>match_id</th>\n",
       "      <th>event_id</th>\n",
       "      <th>event_name</th>\n",
       "      <th>best_of</th>\n",
       "      <th>...</th>\n",
       "      <th>m3_kddiff_ct</th>\n",
       "      <th>m3_adr_ct</th>\n",
       "      <th>m3_kast_ct</th>\n",
       "      <th>m3_rating_ct</th>\n",
       "      <th>m3_kills_t</th>\n",
       "      <th>m3_deaths_t</th>\n",
       "      <th>m3_kddiff_t</th>\n",
       "      <th>m3_adr_t</th>\n",
       "      <th>m3_kast_t</th>\n",
       "      <th>m3_rating_t</th>\n",
       "    </tr>\n",
       "  </thead>\n",
       "  <tbody>\n",
       "    <tr>\n",
       "      <th>0</th>\n",
       "      <td>2020-02-26</td>\n",
       "      <td>Brehze</td>\n",
       "      <td>Evil Geniuses</td>\n",
       "      <td>Liquid</td>\n",
       "      <td>United States</td>\n",
       "      <td>9136</td>\n",
       "      <td>2339385</td>\n",
       "      <td>4901</td>\n",
       "      <td>IEM Katowice 2020</td>\n",
       "      <td>3</td>\n",
       "      <td>...</td>\n",
       "      <td>-1.0</td>\n",
       "      <td>72.5</td>\n",
       "      <td>80.0</td>\n",
       "      <td>0.93</td>\n",
       "      <td>7.0</td>\n",
       "      <td>9.0</td>\n",
       "      <td>-2.0</td>\n",
       "      <td>70.4</td>\n",
       "      <td>63.6</td>\n",
       "      <td>0.89</td>\n",
       "    </tr>\n",
       "    <tr>\n",
       "      <th>1</th>\n",
       "      <td>2020-02-26</td>\n",
       "      <td>CeRq</td>\n",
       "      <td>Evil Geniuses</td>\n",
       "      <td>Liquid</td>\n",
       "      <td>Bulgaria</td>\n",
       "      <td>11219</td>\n",
       "      <td>2339385</td>\n",
       "      <td>4901</td>\n",
       "      <td>IEM Katowice 2020</td>\n",
       "      <td>3</td>\n",
       "      <td>...</td>\n",
       "      <td>3.0</td>\n",
       "      <td>79.5</td>\n",
       "      <td>53.3</td>\n",
       "      <td>1.12</td>\n",
       "      <td>4.0</td>\n",
       "      <td>8.0</td>\n",
       "      <td>-4.0</td>\n",
       "      <td>40.7</td>\n",
       "      <td>54.5</td>\n",
       "      <td>0.53</td>\n",
       "    </tr>\n",
       "    <tr>\n",
       "      <th>2</th>\n",
       "      <td>2020-02-26</td>\n",
       "      <td>EliGE</td>\n",
       "      <td>Liquid</td>\n",
       "      <td>Evil Geniuses</td>\n",
       "      <td>United States</td>\n",
       "      <td>8738</td>\n",
       "      <td>2339385</td>\n",
       "      <td>4901</td>\n",
       "      <td>IEM Katowice 2020</td>\n",
       "      <td>3</td>\n",
       "      <td>...</td>\n",
       "      <td>1.0</td>\n",
       "      <td>81.5</td>\n",
       "      <td>63.6</td>\n",
       "      <td>1.03</td>\n",
       "      <td>9.0</td>\n",
       "      <td>9.0</td>\n",
       "      <td>0.0</td>\n",
       "      <td>87.9</td>\n",
       "      <td>73.3</td>\n",
       "      <td>1.05</td>\n",
       "    </tr>\n",
       "  </tbody>\n",
       "</table>\n",
       "<p>3 rows × 101 columns</p>\n",
       "</div>"
      ],
      "text/plain": [
       "         date player_name           team       opponent        country  \\\n",
       "0  2020-02-26      Brehze  Evil Geniuses         Liquid  United States   \n",
       "1  2020-02-26        CeRq  Evil Geniuses         Liquid       Bulgaria   \n",
       "2  2020-02-26       EliGE         Liquid  Evil Geniuses  United States   \n",
       "\n",
       "   player_id  match_id  event_id         event_name  best_of  ...  \\\n",
       "0       9136   2339385      4901  IEM Katowice 2020        3  ...   \n",
       "1      11219   2339385      4901  IEM Katowice 2020        3  ...   \n",
       "2       8738   2339385      4901  IEM Katowice 2020        3  ...   \n",
       "\n",
       "  m3_kddiff_ct m3_adr_ct m3_kast_ct  m3_rating_ct  m3_kills_t  m3_deaths_t  \\\n",
       "0         -1.0      72.5       80.0          0.93         7.0          9.0   \n",
       "1          3.0      79.5       53.3          1.12         4.0          8.0   \n",
       "2          1.0      81.5       63.6          1.03         9.0          9.0   \n",
       "\n",
       "   m3_kddiff_t  m3_adr_t  m3_kast_t  m3_rating_t  \n",
       "0         -2.0      70.4       63.6         0.89  \n",
       "1         -4.0      40.7       54.5         0.53  \n",
       "2          0.0      87.9       73.3         1.05  \n",
       "\n",
       "[3 rows x 101 columns]"
      ]
     },
     "execution_count": 9,
     "metadata": {},
     "output_type": "execute_result"
    }
   ],
   "source": [
    "players_df.head(3)"
   ]
  },
  {
   "cell_type": "code",
   "execution_count": 10,
   "metadata": {},
   "outputs": [
    {
     "data": {
      "text/plain": [
       "Virtus.pro      3460\n",
       "Liquid          3373\n",
       "Cloud9          3265\n",
       "mousesports     3229\n",
       "G2              3142\n",
       "                ... \n",
       "Fictitious         4\n",
       "SuperstarS         4\n",
       "Malta              4\n",
       "Saudi Arabia       4\n",
       "Pakistan           3\n",
       "Name: team, Length: 4155, dtype: int64"
      ]
     },
     "execution_count": 10,
     "metadata": {},
     "output_type": "execute_result"
    }
   ],
   "source": [
    "players_df['team'].value_counts()"
   ]
  },
  {
   "cell_type": "code",
   "execution_count": 11,
   "metadata": {},
   "outputs": [
    {
     "data": {
      "text/plain": [
       "2124    2580\n",
       "3469    2200\n",
       "3687    2150\n",
       "3047    2130\n",
       "3546    2009\n",
       "        ... \n",
       "5081      10\n",
       "2484      10\n",
       "5024      10\n",
       "3340       9\n",
       "2297       8\n",
       "Name: event_id, Length: 3158, dtype: int64"
      ]
     },
     "execution_count": 11,
     "metadata": {},
     "output_type": "execute_result"
    }
   ],
   "source": [
    "players_df['event_id'].value_counts()"
   ]
  },
  {
   "cell_type": "code",
   "execution_count": 12,
   "metadata": {},
   "outputs": [
    {
     "data": {
      "text/plain": [
       "array(['date', 'player_name', 'team', 'opponent', 'country', 'player_id',\n",
       "       'match_id', 'event_id', 'event_name', 'best_of', 'map_1', 'map_2',\n",
       "       'map_3', 'kills', 'assists', 'deaths', 'hs', 'flash_assists',\n",
       "       'kast', 'kddiff', 'adr', 'fkdiff', 'rating', 'm1_kills',\n",
       "       'm1_assists', 'm1_deaths', 'm1_hs', 'm1_flash_assists', 'm1_kast',\n",
       "       'm1_kddiff', 'm1_adr', 'm1_fkdiff', 'm1_rating', 'm2_kills',\n",
       "       'm2_assists', 'm2_deaths', 'm2_hs', 'm2_flash_assists', 'm2_kast',\n",
       "       'm2_kddiff', 'm2_adr', 'm2_fkdiff', 'm2_rating', 'm3_kills',\n",
       "       'm3_assists', 'm3_deaths', 'm3_hs', 'm3_flash_assists', 'm3_kast',\n",
       "       'm3_kddiff', 'm3_adr', 'm3_fkdiff', 'm3_rating', 'kills_ct',\n",
       "       'deaths_ct', 'kddiff_ct', 'adr_ct', 'kast_ct', 'rating_ct',\n",
       "       'kills_t', 'deaths_t', 'kddiff_t', 'adr_t', 'kast_t', 'rating_t',\n",
       "       'm1_kills_ct', 'm1_deaths_ct', 'm1_kddiff_ct', 'm1_adr_ct',\n",
       "       'm1_kast_ct', 'm1_rating_ct', 'm1_kills_t', 'm1_deaths_t',\n",
       "       'm1_kddiff_t', 'm1_adr_t', 'm1_kast_t', 'm1_rating_t',\n",
       "       'm2_kills_ct', 'm2_deaths_ct', 'm2_kddiff_ct', 'm2_adr_ct',\n",
       "       'm2_kast_ct', 'm2_rating_ct', 'm2_kills_t', 'm2_deaths_t',\n",
       "       'm2_kddiff_t', 'm2_adr_t', 'm2_kast_t', 'm2_rating_t',\n",
       "       'm3_kills_ct', 'm3_deaths_ct', 'm3_kddiff_ct', 'm3_adr_ct',\n",
       "       'm3_kast_ct', 'm3_rating_ct', 'm3_kills_t', 'm3_deaths_t',\n",
       "       'm3_kddiff_t', 'm3_adr_t', 'm3_kast_t', 'm3_rating_t'],\n",
       "      dtype=object)"
      ]
     },
     "execution_count": 12,
     "metadata": {},
     "output_type": "execute_result"
    }
   ],
   "source": [
    "players_df.columns.values"
   ]
  },
  {
   "cell_type": "code",
   "execution_count": null,
   "metadata": {},
   "outputs": [],
   "source": []
  },
  {
   "cell_type": "code",
   "execution_count": null,
   "metadata": {},
   "outputs": [],
   "source": []
  },
  {
   "cell_type": "code",
   "execution_count": null,
   "metadata": {},
   "outputs": [],
   "source": []
  },
  {
   "cell_type": "code",
   "execution_count": null,
   "metadata": {},
   "outputs": [],
   "source": []
  },
  {
   "cell_type": "markdown",
   "metadata": {},
   "source": [
    "**results**"
   ]
  },
  {
   "cell_type": "code",
   "execution_count": 13,
   "metadata": {},
   "outputs": [
    {
     "data": {
      "text/html": [
       "<div>\n",
       "<style scoped>\n",
       "    .dataframe tbody tr th:only-of-type {\n",
       "        vertical-align: middle;\n",
       "    }\n",
       "\n",
       "    .dataframe tbody tr th {\n",
       "        vertical-align: top;\n",
       "    }\n",
       "\n",
       "    .dataframe thead th {\n",
       "        text-align: right;\n",
       "    }\n",
       "</style>\n",
       "<table border=\"1\" class=\"dataframe\">\n",
       "  <thead>\n",
       "    <tr style=\"text-align: right;\">\n",
       "      <th></th>\n",
       "      <th>date</th>\n",
       "      <th>team_1</th>\n",
       "      <th>team_2</th>\n",
       "      <th>_map</th>\n",
       "      <th>result_1</th>\n",
       "      <th>result_2</th>\n",
       "      <th>map_winner</th>\n",
       "      <th>starting_ct</th>\n",
       "      <th>ct_1</th>\n",
       "      <th>t_2</th>\n",
       "      <th>t_1</th>\n",
       "      <th>ct_2</th>\n",
       "      <th>event_id</th>\n",
       "      <th>match_id</th>\n",
       "      <th>rank_1</th>\n",
       "      <th>rank_2</th>\n",
       "      <th>map_wins_1</th>\n",
       "      <th>map_wins_2</th>\n",
       "      <th>match_winner</th>\n",
       "    </tr>\n",
       "  </thead>\n",
       "  <tbody>\n",
       "    <tr>\n",
       "      <th>0</th>\n",
       "      <td>2020-03-18</td>\n",
       "      <td>Recon 5</td>\n",
       "      <td>TeamOne</td>\n",
       "      <td>Dust2</td>\n",
       "      <td>0</td>\n",
       "      <td>16</td>\n",
       "      <td>2</td>\n",
       "      <td>2</td>\n",
       "      <td>0</td>\n",
       "      <td>1</td>\n",
       "      <td>0</td>\n",
       "      <td>15</td>\n",
       "      <td>5151</td>\n",
       "      <td>2340454</td>\n",
       "      <td>62</td>\n",
       "      <td>63</td>\n",
       "      <td>0</td>\n",
       "      <td>2</td>\n",
       "      <td>2</td>\n",
       "    </tr>\n",
       "    <tr>\n",
       "      <th>1</th>\n",
       "      <td>2020-03-18</td>\n",
       "      <td>Recon 5</td>\n",
       "      <td>TeamOne</td>\n",
       "      <td>Inferno</td>\n",
       "      <td>13</td>\n",
       "      <td>16</td>\n",
       "      <td>2</td>\n",
       "      <td>2</td>\n",
       "      <td>8</td>\n",
       "      <td>6</td>\n",
       "      <td>5</td>\n",
       "      <td>10</td>\n",
       "      <td>5151</td>\n",
       "      <td>2340454</td>\n",
       "      <td>62</td>\n",
       "      <td>63</td>\n",
       "      <td>0</td>\n",
       "      <td>2</td>\n",
       "      <td>2</td>\n",
       "    </tr>\n",
       "    <tr>\n",
       "      <th>2</th>\n",
       "      <td>2020-03-18</td>\n",
       "      <td>New England Whalers</td>\n",
       "      <td>Station7</td>\n",
       "      <td>Inferno</td>\n",
       "      <td>12</td>\n",
       "      <td>16</td>\n",
       "      <td>2</td>\n",
       "      <td>1</td>\n",
       "      <td>9</td>\n",
       "      <td>6</td>\n",
       "      <td>3</td>\n",
       "      <td>10</td>\n",
       "      <td>5243</td>\n",
       "      <td>2340461</td>\n",
       "      <td>140</td>\n",
       "      <td>118</td>\n",
       "      <td>12</td>\n",
       "      <td>16</td>\n",
       "      <td>2</td>\n",
       "    </tr>\n",
       "  </tbody>\n",
       "</table>\n",
       "</div>"
      ],
      "text/plain": [
       "         date               team_1    team_2     _map  result_1  result_2  \\\n",
       "0  2020-03-18              Recon 5   TeamOne    Dust2         0        16   \n",
       "1  2020-03-18              Recon 5   TeamOne  Inferno        13        16   \n",
       "2  2020-03-18  New England Whalers  Station7  Inferno        12        16   \n",
       "\n",
       "   map_winner  starting_ct  ct_1  t_2  t_1  ct_2  event_id  match_id  rank_1  \\\n",
       "0           2            2     0    1    0    15      5151   2340454      62   \n",
       "1           2            2     8    6    5    10      5151   2340454      62   \n",
       "2           2            1     9    6    3    10      5243   2340461     140   \n",
       "\n",
       "   rank_2  map_wins_1  map_wins_2  match_winner  \n",
       "0      63           0           2             2  \n",
       "1      63           0           2             2  \n",
       "2     118          12          16             2  "
      ]
     },
     "execution_count": 13,
     "metadata": {},
     "output_type": "execute_result"
    }
   ],
   "source": [
    "results_df.head(3)"
   ]
  },
  {
   "cell_type": "code",
   "execution_count": 27,
   "metadata": {},
   "outputs": [
    {
     "data": {
      "text/plain": [
       "array([16, 16, 16, ..., 16, 16, 16], dtype=int64)"
      ]
     },
     "execution_count": 27,
     "metadata": {},
     "output_type": "execute_result"
    }
   ],
   "source": [
    "results_df[results_df.result_1 > results_df.result_2].result_1.values"
   ]
  },
  {
   "cell_type": "code",
   "execution_count": 28,
   "metadata": {},
   "outputs": [
    {
     "data": {
      "text/plain": [
       "16    22477\n",
       "19     1454\n",
       "22      456\n",
       "25      144\n",
       "28       35\n",
       "21       17\n",
       "31       10\n",
       "34        4\n",
       "10        3\n",
       "4         2\n",
       "26        1\n",
       "6         1\n",
       "Name: result_1, dtype: int64"
      ]
     },
     "execution_count": 28,
     "metadata": {},
     "output_type": "execute_result"
    }
   ],
   "source": [
    "results_df[results_df.result_1 > results_df.result_2].result_1.value_counts()"
   ]
  },
  {
   "cell_type": "code",
   "execution_count": 14,
   "metadata": {},
   "outputs": [
    {
     "data": {
      "text/plain": [
       "10"
      ]
     },
     "execution_count": 14,
     "metadata": {},
     "output_type": "execute_result"
    }
   ],
   "source": [
    "results_df._map.nunique()"
   ]
  },
  {
   "cell_type": "code",
   "execution_count": 21,
   "metadata": {},
   "outputs": [
    {
     "data": {
      "text/plain": [
       "1    24604\n",
       "2    21169\n",
       "Name: map_winner, dtype: int64"
      ]
     },
     "execution_count": 21,
     "metadata": {},
     "output_type": "execute_result"
    }
   ],
   "source": [
    "results_df['map_winner'].value_counts()"
   ]
  },
  {
   "cell_type": "code",
   "execution_count": 15,
   "metadata": {},
   "outputs": [
    {
     "data": {
      "text/plain": [
       "Mirage         9021\n",
       "Inferno        7485\n",
       "Train          6566\n",
       "Overpass       5625\n",
       "Cache          4613\n",
       "Nuke           4206\n",
       "Dust2          4114\n",
       "Cobblestone    3513\n",
       "Vertigo         609\n",
       "Default          21\n",
       "Name: _map, dtype: int64"
      ]
     },
     "execution_count": 15,
     "metadata": {},
     "output_type": "execute_result"
    }
   ],
   "source": [
    "results_df['_map'].value_counts()"
   ]
  },
  {
   "cell_type": "code",
   "execution_count": 22,
   "metadata": {},
   "outputs": [
    {
     "data": {
      "text/html": [
       "<div>\n",
       "<style scoped>\n",
       "    .dataframe tbody tr th:only-of-type {\n",
       "        vertical-align: middle;\n",
       "    }\n",
       "\n",
       "    .dataframe tbody tr th {\n",
       "        vertical-align: top;\n",
       "    }\n",
       "\n",
       "    .dataframe thead th {\n",
       "        text-align: right;\n",
       "    }\n",
       "</style>\n",
       "<table border=\"1\" class=\"dataframe\">\n",
       "  <thead>\n",
       "    <tr style=\"text-align: right;\">\n",
       "      <th></th>\n",
       "      <th>team_1</th>\n",
       "      <th>team_2</th>\n",
       "      <th>_map</th>\n",
       "      <th>rank_1</th>\n",
       "      <th>rank_2</th>\n",
       "      <th>map_winner</th>\n",
       "    </tr>\n",
       "  </thead>\n",
       "  <tbody>\n",
       "    <tr>\n",
       "      <th>9</th>\n",
       "      <td>fnatic</td>\n",
       "      <td>BIG</td>\n",
       "      <td>Mirage</td>\n",
       "      <td>5</td>\n",
       "      <td>18</td>\n",
       "      <td>2</td>\n",
       "    </tr>\n",
       "    <tr>\n",
       "      <th>21</th>\n",
       "      <td>fnatic</td>\n",
       "      <td>BIG</td>\n",
       "      <td>Overpass</td>\n",
       "      <td>5</td>\n",
       "      <td>18</td>\n",
       "      <td>1</td>\n",
       "    </tr>\n",
       "    <tr>\n",
       "      <th>22</th>\n",
       "      <td>Natus Vincere</td>\n",
       "      <td>North</td>\n",
       "      <td>Nuke</td>\n",
       "      <td>1</td>\n",
       "      <td>23</td>\n",
       "      <td>2</td>\n",
       "    </tr>\n",
       "    <tr>\n",
       "      <th>23</th>\n",
       "      <td>Natus Vincere</td>\n",
       "      <td>North</td>\n",
       "      <td>Dust2</td>\n",
       "      <td>1</td>\n",
       "      <td>23</td>\n",
       "      <td>2</td>\n",
       "    </tr>\n",
       "    <tr>\n",
       "      <th>26</th>\n",
       "      <td>fnatic</td>\n",
       "      <td>BIG</td>\n",
       "      <td>Inferno</td>\n",
       "      <td>5</td>\n",
       "      <td>18</td>\n",
       "      <td>2</td>\n",
       "    </tr>\n",
       "  </tbody>\n",
       "</table>\n",
       "</div>"
      ],
      "text/plain": [
       "           team_1 team_2      _map  rank_1  rank_2  map_winner\n",
       "9          fnatic    BIG    Mirage       5      18           2\n",
       "21         fnatic    BIG  Overpass       5      18           1\n",
       "22  Natus Vincere  North      Nuke       1      23           2\n",
       "23  Natus Vincere  North     Dust2       1      23           2\n",
       "26         fnatic    BIG   Inferno       5      18           2"
      ]
     },
     "execution_count": 22,
     "metadata": {},
     "output_type": "execute_result"
    }
   ],
   "source": [
    "## CS_GO Win_Loss Predicting\n",
    "df = results_df.iloc[:, [1, 2, 3, 14, 15, 6]]\n",
    "sel = (df.team_1 == 'Natus Vincere') | (df.team_2 == 'Natus Vincere') | \\\n",
    "        (df.team_1 == 'fnatic') | (df.team_2 == 'fnatic')\n",
    "csgo_df = df[sel]\n",
    "csgo_df.head()"
   ]
  },
  {
   "cell_type": "code",
   "execution_count": 19,
   "metadata": {},
   "outputs": [
    {
     "data": {
      "text/plain": [
       "(1632, 5)"
      ]
     },
     "execution_count": 19,
     "metadata": {},
     "output_type": "execute_result"
    }
   ],
   "source": [
    "csgo_df.shape"
   ]
  },
  {
   "cell_type": "code",
   "execution_count": null,
   "metadata": {},
   "outputs": [],
   "source": []
  }
 ],
 "metadata": {
  "kernelspec": {
   "display_name": "mlenv",
   "language": "python",
   "name": "mlenv"
  },
  "language_info": {
   "codemirror_mode": {
    "name": "ipython",
    "version": 3
   },
   "file_extension": ".py",
   "mimetype": "text/x-python",
   "name": "python",
   "nbconvert_exporter": "python",
   "pygments_lexer": "ipython3",
   "version": "3.7.7"
  }
 },
 "nbformat": 4,
 "nbformat_minor": 4
}
