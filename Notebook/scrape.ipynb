{
 "cells": [
  {
   "cell_type": "code",
   "execution_count": 1,
   "metadata": {},
   "outputs": [],
   "source": [
    "# Import Splinter and BeautifulSoup\n",
    "from splinter import Browser\n",
    "from bs4 import BeautifulSoup\n",
    "import os\n",
    "import pandas as pd\n",
    "import json\n",
    "import time\n",
    "from datetime import datetime"
   ]
  },
  {
   "cell_type": "code",
   "execution_count": 2,
   "metadata": {},
   "outputs": [],
   "source": [
    "# return a filename (with path) such that it is accessible. \n",
    "def get_fullname(filename):\n",
    "    # as long as it is accessible.\n",
    "    if os.path.isfile(filename):\n",
    "        return filename\n",
    "\n",
    "    # search current working directory.\n",
    "    cur_working_dir = os.getcwd()\n",
    "    for i in range(50):\n",
    "        for (path, dir, files) in os.walk(cur_working_dir):\n",
    "            if filename in files:\n",
    "                return os.path.join(path, filename)\n",
    "\n",
    "        # check parent directory\n",
    "        parent = os.path.dirname(cur_working_dir)\n",
    "        if cur_working_dir == parent:\n",
    "            break;\n",
    "        cur_working_dir = parent\n",
    "\n",
    "    # did not found, simply return.\n",
    "    print(f\"file {filename} not found !!!\")\n",
    "    return filename\n",
    "\n",
    "\n",
    "# Initiate headless driver for deployment\n",
    "browser = Browser(\"chrome\", executable_path=get_fullname(\"chromedriver.exe\"), headless=True)\n",
    "time.sleep(1)\n",
    "#browser = Browser('chrome', executable_path=get_fullname(\"chromedriver.exe\"))"
   ]
  },
  {
   "cell_type": "code",
   "execution_count": 3,
   "metadata": {},
   "outputs": [],
   "source": [
    "# base url\n",
    "hltv_url = 'https://www.hltv.org'"
   ]
  },
  {
   "cell_type": "code",
   "execution_count": null,
   "metadata": {},
   "outputs": [],
   "source": []
  },
  {
   "cell_type": "markdown",
   "metadata": {},
   "source": [
    "## visist '/stats/matches'"
   ]
  },
  {
   "cell_type": "code",
   "execution_count": 4,
   "metadata": {},
   "outputs": [
    {
     "name": "stdout",
     "output_type": "stream",
     "text": [
      "Truncate the match lists !!!!!\n",
      "Change next_url from: /stats/matches?offset=550\n",
      "                  to: /stats/matches?offset=79700\n",
      "Done 699 matches scraping.\n"
     ]
    }
   ],
   "source": [
    "# Visit the site to Scrape\n",
    "next_url = '/stats/matches'\n",
    "match_urls = []\n",
    "for cnt in range(2000):\n",
    "    # Visit the site to Scrape\n",
    "    browser.visit(hltv_url + next_url)\n",
    "    browser.is_element_present_by_tag('div.contentCol', wait_time=3)\n",
    "    content = BeautifulSoup(browser.html, 'html.parser').find('div', attrs={\"class\": \"contentCol\"})\n",
    "\n",
    "    # all matches in this page\n",
    "    trs = content.tbody.find_all('tr')\n",
    "    \n",
    "    for tr in trs:\n",
    "        match_info= {} \n",
    "        \n",
    "        # data-unix\n",
    "        td = tr.find('td', attrs={'class': 'date-col'})\n",
    "        match_info['href'] = td.a['href']\n",
    "        t = int(td.div['data-unix'])/1000\n",
    "        match_info['ts'] = t\n",
    "        t_str = datetime.utcfromtimestamp(t).strftime('%Y-%m-%d')\n",
    "        # teams\n",
    "        tds = tr.find_all('td', attrs={'class': 'team-col'})\n",
    "        match_info['team1'] = tds[0].a.text\n",
    "        match_info['team2'] = tds[1].a.text\n",
    "        # map\n",
    "        match_info['map'] = tr.find('div', attrs={'class': 'dynamic-map-name-full'}).text\n",
    "        match_urls.append(match_info)        \n",
    "\n",
    "    # ========================================================================\n",
    "    # next page\n",
    "    # ========================================================================\n",
    "    # next page\n",
    "    a = content.find('a', attrs={\"class\": \"pagination-next\"}, href=True)\n",
    "    if not a:\n",
    "        print(f'Done {len(match_urls)} matches scraping.')\n",
    "        break\n",
    "    next_url = a['href']\n",
    "    \n",
    "    # only during development\n",
    "    if cnt == 10:\n",
    "        print(f'Truncate the match lists !!!!!')\n",
    "        print(f'Change next_url from: {next_url}')        \n",
    "        next_url = '/stats/matches?offset=79700'\n",
    "        print(f'                  to: {next_url}')   "
   ]
  },
  {
   "cell_type": "code",
   "execution_count": 5,
   "metadata": {},
   "outputs": [
    {
     "data": {
      "text/plain": [
       "[{'href': '/stats/matches/mapstatsid/104039/sharks-vs-9z',\n",
       "  'ts': 1591928400.0,\n",
       "  'team1': 'Sharks',\n",
       "  'team2': '9z',\n",
       "  'map': 'Nuke'},\n",
       " {'href': '/stats/matches/mapstatsid/104038/aa-vs-ex-morning-light',\n",
       "  'ts': 1591927800.0,\n",
       "  'team1': 'AA',\n",
       "  'team2': 'ex-Morning Light',\n",
       "  'map': 'Mirage'},\n",
       " {'href': '/stats/matches/mapstatsid/104033/teamone-vs-recon-5',\n",
       "  'ts': 1591927800.0,\n",
       "  'team1': 'TeamOne',\n",
       "  'team2': 'Recon 5',\n",
       "  'map': 'Nuke'}]"
      ]
     },
     "execution_count": 5,
     "metadata": {},
     "output_type": "execute_result"
    }
   ],
   "source": [
    "match_urls[:3]"
   ]
  },
  {
   "cell_type": "code",
   "execution_count": 6,
   "metadata": {},
   "outputs": [
    {
     "data": {
      "text/plain": [
       "[{'href': '/stats/matches/mapstatsid/104026/new-england-whalers-vs-levitate',\n",
       "  'ts': 1591920300.0,\n",
       "  'team1': 'New England Whalers',\n",
       "  'team2': 'Levitate',\n",
       "  'map': 'Dust2'},\n",
       " {'href': '/stats/matches/mapstatsid/103972/espada-vs-navi-junior',\n",
       "  'ts': 1591884000.0,\n",
       "  'team1': 'Espada',\n",
       "  'team2': 'NAVI Junior',\n",
       "  'map': 'Inferno'}]"
      ]
     },
     "execution_count": 6,
     "metadata": {},
     "output_type": "execute_result"
    }
   ],
   "source": [
    "## overwrite with two matches only\n",
    "match_urls = [\n",
    "    # single map match\n",
    "    {'href': '/stats/matches/mapstatsid/104026/new-england-whalers-vs-levitate',\n",
    "     'ts': 1591920300.0,\n",
    "     'team1': 'New England Whalers',\n",
    "     'team2': 'Levitate',\n",
    "     'map': 'Dust2'},\n",
    "    # multi-map match\n",
    "    {'href': '/stats/matches/mapstatsid/103972/espada-vs-navi-junior',\n",
    "        'ts': 1591884000.0,\n",
    "     'team1': 'Espada',\n",
    "     'team2': 'NAVI Junior',\n",
    "     'map': 'Inferno'}\n",
    "]\n",
    "match_urls"
   ]
  },
  {
   "cell_type": "markdown",
   "metadata": {},
   "source": [
    "#### AWP kills"
   ]
  },
  {
   "cell_type": "code",
   "execution_count": 7,
   "metadata": {},
   "outputs": [],
   "source": [
    "def AWP_kills(performance):\n",
    "    AWP_content = performance.find(id='AWP-content')\n",
    "    trs = AWP_content.table.tbody.find_all('tr')\n",
    "    print(f'team1 players:', end =\" \")\n",
    "    for td in trs[0].find_all('td', attrs={'class': 'team1'}):\n",
    "        print(f'{td.a.text},', end =\" \")\n",
    "    print()\n",
    "    for idx, tr in enumerate(trs):\n",
    "        if idx == 0:\n",
    "            continue\n",
    "        tds = tr.find_all('td')\n",
    "        scores = []\n",
    "        for i, td in enumerate(tds):\n",
    "            if (i == 0):\n",
    "                player = td.a.text\n",
    "            else:\n",
    "                scores.append(td.text)\n",
    "        print(f'team2 player = {player}, scores = {scores}')"
   ]
  },
  {
   "cell_type": "markdown",
   "metadata": {},
   "source": [
    "#### player performance"
   ]
  },
  {
   "cell_type": "code",
   "execution_count": 8,
   "metadata": {},
   "outputs": [],
   "source": [
    "def player_performance(performance):\n",
    "    highlighted_players = performance.find('div', attrs='player-overview')      \\\n",
    "                                .find_all('div', attrs='highlighted-player')\n",
    "\n",
    "    for player in highlighted_players:\n",
    "        player_performance = {}\n",
    "        # player_name\n",
    "        p_and_c = player.find('div', attrs='picture-and-chart')\n",
    "        player_performance['name'] = p_and_c.div.img['title']\n",
    "\n",
    "        player_id = 0\n",
    "        str = p_and_c.div.img['src']\n",
    "        for e in str.split('/'):\n",
    "            if e.isnumeric():\n",
    "                player_id = int(e)\n",
    "        player_performance['player_id'] = player_id\n",
    "\n",
    "        # performance items\n",
    "        fact = player.find('div', attrs='facts')\n",
    "        json_data = json.loads(fact.div['data-fusionchart-config'])\n",
    "\n",
    "        for item in json_data['dataSource']['data']:\n",
    "            player_performance[item['label']] = item['value']\n",
    "        print(player_performance)    "
   ]
  },
  {
   "cell_type": "code",
   "execution_count": 9,
   "metadata": {},
   "outputs": [],
   "source": [
    "def player_map_performance_get(performance):\n",
    "    AWP_kills(performance)\n",
    "    player_performance(performance)"
   ]
  },
  {
   "cell_type": "markdown",
   "metadata": {},
   "source": [
    "#### player stat."
   ]
  },
  {
   "cell_type": "code",
   "execution_count": 10,
   "metadata": {},
   "outputs": [],
   "source": [
    "# parse player stat.\n",
    "def player_stat(player_tr):\n",
    "    items = ['player', 'kills', 'assists', 'deaths', 'kdratio', 'kddiff', 'adr', 'fkdiff', 'adr']\n",
    "    player_st = {}\n",
    "    # parse all as text for now.\n",
    "    for item in items:\n",
    "        player_st[item] = player_tr.find('td', attrs={\"class\": \"st-\" + item}).text\n",
    "    return player_st\n",
    "\n",
    "def team_stat(st_table):\n",
    "    team_st = {}\n",
    "    team_st['teamname'] = st_table.find(\"th\", attrs={\"class\": \"st-teamname\"}).text\n",
    "    \n",
    "    # team member st.\n",
    "    teammates = []\n",
    "    for tr in st_table.find(\"tbody\").find_all(\"tr\"):\n",
    "        teammates.append(player_stat(tr))\n",
    "    team_st['teammates'] = teammates\n",
    "    return team_st"
   ]
  },
  {
   "cell_type": "code",
   "execution_count": null,
   "metadata": {},
   "outputs": [],
   "source": []
  },
  {
   "cell_type": "markdown",
   "metadata": {},
   "source": [
    "### entrance of match scrape"
   ]
  },
  {
   "cell_type": "code",
   "execution_count": 11,
   "metadata": {},
   "outputs": [],
   "source": [
    "def match_scrape(brower, match_info):\n",
    "    # performance page\n",
    "    sl = match_info['href'].split('/')\n",
    "    sl.insert(3, 'performance')\n",
    "    performance_url = '/'.join(sl)\n",
    "    \n",
    "    # match performace main page\n",
    "    browser.visit(hltv_url + performance_url)\n",
    "    browser.is_element_present_by_css(\"div.stats-match-performance\", wait_time=3)\n",
    "    performance = BeautifulSoup(browser.html, 'html.parser')            \\\n",
    "                .find('div', attrs={'class': 'stats-match-performance'})\n",
    "\n",
    "    ## the match maps\n",
    "    as_ = []\n",
    "    match_maps = performance.find('div', attrs={'class': 'stats-match-maps'})\n",
    "    if match_maps:\n",
    "        ## now find the each map stats.\n",
    "        as_ = match_maps.find_all('a', href=True)\n",
    "\n",
    "    if len(as_) == 0:\n",
    "        print(f'Single map match')\n",
    "        player_map_performance_get(performance)\n",
    "        ## \n",
    "        match_url = performance_url.replace('performance/', '')\n",
    "\n",
    "    else:\n",
    "        print(f'Multi-map match')\n",
    "        perf_mapstat = []\n",
    "        for a in as_:\n",
    "            mapstat = {}\n",
    "            mapstat['href'] = a['href']\n",
    "            mapstat['map'] = a.find('div', attrs={'class': 'dynamic-map-name-full'}).text\n",
    "            perf_mapstat.append(mapstat)\n",
    "        print(mapstat)\n",
    "        \n",
    "        # save one webpage visit.\n",
    "        for p_st in perf_mapstat:\n",
    "            if (p_st[\"href\"] != performance_url):\n",
    "                continue\n",
    "            print()\n",
    "            print(f'map = {p_st[\"map\"]}')\n",
    "            player_map_performance_get(performance)\n",
    "            \n",
    "        # visit other pages\n",
    "        for p_st in perf_mapstat:\n",
    "            if (p_st[\"href\"] == performance_url):\n",
    "                continue\n",
    "            browser.visit(hltv_url + p_st[\"href\"])\n",
    "            browser.is_element_present_by_tag('div.stats-match-performance', wait_time=3)\n",
    "            performance = BeautifulSoup(browser.html, 'html.parser')          \\\n",
    "                        .find('div', attrs={'class': 'stats-match-performance'})\n",
    "            print()\n",
    "            print(f'map = {p_st[\"map\"]}:')\n",
    "            player_map_performance_get(performance)\n",
    "        \n",
    "        match_url = ''\n",
    "        for p_st in perf_mapstat:\n",
    "            if 'mapstatsid' not in p_st['href']:\n",
    "                match_url = p_st['href'].replace('performance/', '')\n",
    "\n",
    "    ## match player stat.\n",
    "    print(match_url)\n",
    "    browser.visit(hltv_url + match_url)\n",
    "    browser.is_element_present_by_tag('table.stats-table', wait_time=3)\n",
    "    # Parse the HTML\n",
    "    stats_table = BeautifulSoup(browser.html, 'html.parser')           \\\n",
    "                       .find_all(\"table\", attrs={\"class\": \"stats-table\"})\n",
    "    team_st = []\n",
    "    for stat_table in stats_table:\n",
    "        team_st.append(team_stat(stat_table))\n",
    "    print(team_st)"
   ]
  },
  {
   "cell_type": "code",
   "execution_count": 12,
   "metadata": {},
   "outputs": [
    {
     "name": "stdout",
     "output_type": "stream",
     "text": [
      "Single map match\n",
      "team1 players: Sneaky, SPAMMER, KmZ, Bwills, FaNg, \n",
      "team2 player = PwnAlone, scores = ['2:0', '4:0', '2:2', '0:0', '3:0']\n",
      "team2 player = ben1337, scores = ['0:0', '0:0', '0:3', '0:0', '0:0']\n",
      "team2 player = Rampage, scores = ['0:0', '0:0', '1:3', '0:0', '0:0']\n",
      "team2 player = djay, scores = ['0:0', '0:0', '0:3', '0:0', '0:0']\n",
      "team2 player = BOOBIE, scores = ['0:0', '0:0', '0:1', '0:0', '0:0']\n",
      "{'name': \"Justin 'FaNg' Coakley\", 'player_id': 17372, 'KPR': '2.07', 'DPR': '1.16', 'KAST': '1.09', 'Impact': '2.01', 'ADR': '1.98', 'Rating 2.0': '1.66'}\n",
      "{'name': \"Brendan 'Bwills' Williams\", 'player_id': 0, 'KPR': '1.20', 'DPR': '1.18', 'KAST': '1.75', 'Impact': '1.06', 'ADR': '1.19', 'Rating 2.0': '1.28'}\n",
      "{'name': \"David 'Sneaky' Polster\", 'player_id': 16546, 'KPR': '1.18', 'DPR': '1.39', 'KAST': '0.95', 'Impact': '0.91', 'ADR': '1.14', 'Rating 2.0': '1.11'}\n",
      "{'name': \"Bilal 'SPAMMER' Ali\", 'player_id': 0, 'KPR': '0.82', 'DPR': '1.08', 'KAST': '1.27', 'Impact': '1.16', 'ADR': '1.02', 'Rating 2.0': '1.07'}\n",
      "{'name': \"Ezekiel 'KmZ' Hughes\", 'player_id': 16902, 'KPR': '0.81', 'DPR': '1.22', 'KAST': '1.27', 'Impact': '0.73', 'ADR': '0.82', 'Rating 2.0': '0.97'}\n",
      "{'name': \"Josh 'PwnAlone' Pigue\", 'player_id': 0, 'KPR': '1.16', 'DPR': '0.69', 'KAST': '1.14', 'Impact': '1.13', 'ADR': '1.22', 'Rating 2.0': '1.07'}\n",
      "{'name': \"Jonathan 'djay' Dallal\", 'player_id': 0, 'KPR': '1.25', 'DPR': '1.15', 'KAST': '0.95', 'Impact': '0.91', 'ADR': '1.00', 'Rating 2.0': '1.05'}\n",
      "{'name': \"Brandon 'BOOBIE' Roberts\", 'player_id': 0, 'KPR': '0.89', 'DPR': '0.72', 'KAST': '0.79', 'Impact': '1.15', 'ADR': '1.10', 'Rating 2.0': '0.93'}\n",
      "{'name': \"Ramal 'Rampage' Silva\", 'player_id': 18115, 'KPR': '0.92', 'DPR': '0.55', 'KAST': '1.25', 'Impact': '0.56', 'ADR': '1.19', 'Rating 2.0': '0.89'}\n",
      "{'name': \"Ben 'ben1337' Smith\", 'player_id': 0, 'KPR': '0.65', 'DPR': '0.79', 'KAST': '0.84', 'Impact': '0.77', 'ADR': '0.65', 'Rating 2.0': '0.74'}\n",
      "/stats/matches/mapstatsid/104026/new-england-whalers-vs-levitate\n",
      "[{'teamname': 'Levitate', 'teammates': [{'player': 'FaNg', 'kills': '30 (22)', 'assists': '1 (0)', 'deaths': '18', 'kdratio': '69.2%', 'kddiff': '+12', 'adr': '115.0', 'fkdiff': '+3'}, {'player': 'Bwills', 'kills': '20 (10)', 'assists': '3 (0)', 'deaths': '18', 'kdratio': '92.3%', 'kddiff': '+2', 'adr': '80.9', 'fkdiff': '+1'}, {'player': 'Sneaky', 'kills': '20 (13)', 'assists': '1 (0)', 'deaths': '15', 'kdratio': '65.4%', 'kddiff': '+5', 'adr': '76.9', 'fkdiff': '0'}, {'player': 'SPAMMER', 'kills': '14 (10)', 'assists': '13 (4)', 'deaths': '18', 'kdratio': '76.9%', 'kddiff': '-4', 'adr': '72.8', 'fkdiff': '+1'}, {'player': 'KmZ', 'kills': '15 (2)', 'assists': '5 (1)', 'deaths': '17', 'kdratio': '76.9%', 'kddiff': '-2', 'adr': '64.3', 'fkdiff': '-1'}]}, {'teamname': 'New England Whalers', 'teammates': [{'player': 'PwnAlone', 'kills': '19 (4)', 'assists': '4 (0)', 'deaths': '21', 'kdratio': '73.1%', 'kddiff': '-2', 'adr': '85.3', 'fkdiff': '0'}, {'player': 'djay', 'kills': '22 (12)', 'assists': '3 (3)', 'deaths': '17', 'kdratio': '65.4%', 'kddiff': '+5', 'adr': '74.5', 'fkdiff': '-1'}, {'player': 'BOOBIE', 'kills': '17 (9)', 'assists': '6 (0)', 'deaths': '20', 'kdratio': '57.7%', 'kddiff': '-3', 'adr': '79.1', 'fkdiff': '-1'}, {'player': 'Rampage', 'kills': '15 (10)', 'assists': '6 (1)', 'deaths': '22', 'kdratio': '76.9%', 'kddiff': '-7', 'adr': '83.2', 'fkdiff': '-1'}, {'player': 'ben1337', 'kills': '13 (7)', 'assists': '6 (3)', 'deaths': '20', 'kdratio': '61.5%', 'kddiff': '-7', 'adr': '55.4', 'fkdiff': '-1'}]}]\n",
      "Multi-map match\n",
      "{'href': '/stats/matches/performance/mapstatsid/103983/navi-junior-vs-espada', 'map': 'Dust2'}\n",
      "\n",
      "map = Inferno\n",
      "team1 players: Patsi, FinigaN, S0tF1k, degster, Dima, \n",
      "team2 player = Topa, scores = ['0:0', '0:0', '0:0', '0:0', '0:0']\n",
      "team2 player = KAPACHO, scores = ['0:0', '0:0', '0:0', '1:0', '0:0']\n",
      "team2 player = Gospadarov, scores = ['2:0', '3:0', '2:0', '2:1', '2:0']\n",
      "team2 player = B1T, scores = ['0:0', '0:0', '0:0', '0:1', '0:0']\n",
      "team2 player = Aunkere, scores = ['0:0', '0:0', '0:2', '1:1', '0:0']\n",
      "{'name': \"Dmitriy 'Dima' Bandurka\", 'player_id': 0, 'KPR': '1.22', 'DPR': '0.77', 'KAST': '1.19', 'Impact': '1.14', 'ADR': '1.21', 'Rating 2.0': '1.11'}\n",
      "{'name': \"Robert 'Patsi' Isyanov\", 'player_id': 0, 'KPR': '0.74', 'DPR': '0.66', 'KAST': '0.58', 'Impact': '0.48', 'ADR': '0.87', 'Rating 2.0': '0.67'}\n",
      "{'name': \"Dmitry 'S0tF1k' Forostyanko\", 'player_id': 0, 'KPR': '0.59', 'DPR': '0.45', 'KAST': '0.59', 'Impact': '0.87', 'ADR': '0.73', 'Rating 2.0': '0.65'}\n",
      "{'name': \"Abdul 'degster' Gasanov\", 'player_id': 0, 'KPR': '0.57', 'DPR': '0.41', 'KAST': '0.49', 'Impact': '0.56', 'ADR': '0.61', 'Rating 2.0': '0.53'}\n",
      "{'name': \"Vladislav 'FinigaN' Usov\", 'player_id': 0, 'KPR': '0.18', 'DPR': '0.67', 'KAST': '0.44', 'Impact': '0.38', 'ADR': '0.23', 'Rating 2.0': '0.38'}\n",
      "{'name': \"Kirill 'Gospadarov' Gospadarov\", 'player_id': 16871, 'KPR': '1.96', 'DPR': '1.77', 'KAST': '1.47', 'Impact': '1.90', 'ADR': '1.54', 'Rating 2.0': '1.73'}\n",
      "{'name': \"Alexey 'Topa' Topchienko\", 'player_id': 17008, 'KPR': '1.35', 'DPR': '2.06', 'KAST': '1.89', 'Impact': '1.37', 'ADR': '1.37', 'Rating 2.0': '1.61'}\n",
      "{'name': \"Valeriy 'B1T' Vakhovskiy\", 'player_id': 18987, 'KPR': '1.48', 'DPR': '1.44', 'KAST': '1.11', 'Impact': '1.35', 'ADR': '1.43', 'Rating 2.0': '1.36'}\n",
      "{'name': \"Eugene 'Aunkere' Karyat\", 'player_id': 14175, 'KPR': '1.26', 'DPR': '1.59', 'KAST': '1.47', 'Impact': '1.11', 'ADR': '1.18', 'Rating 2.0': '1.32'}\n",
      "{'name': \"Ivan 'KAPACHO' Koplenko\", 'player_id': 18225, 'KPR': '0.79', 'DPR': '1.96', 'KAST': '1.74', 'Impact': '0.94', 'ADR': '0.90', 'Rating 2.0': '1.26'}\n",
      "\n",
      "map = Best of 5:\n",
      "team1 players: Patsi, FinigaN, S0tF1k, degster, Dima, \n",
      "team2 player = Topa, scores = ['0:0', '0:0', '0:0', '0:2', '0:0']\n",
      "team2 player = KAPACHO, scores = ['0:0', '0:0', '0:0', '1:5', '1:0']\n",
      "team2 player = Gospadarov, scores = ['6:0', '6:1', '6:1', '6:5', '4:0']\n",
      "team2 player = B1T, scores = ['0:0', '0:0', '0:0', '1:4', '0:0']\n",
      "team2 player = Aunkere, scores = ['0:0', '0:0', '1:2', '2:4', '0:0']\n",
      "{'name': \"Dmitriy 'Dima' Bandurka\", 'player_id': 0, 'KPR': '1.13', 'DPR': '1.07', 'KAST': '1.14', 'Impact': '1.28', 'ADR': '1.03', 'Rating 2.0': '1.13'}\n",
      "{'name': \"Abdul 'degster' Gasanov\", 'player_id': 0, 'KPR': '1.04', 'DPR': '0.99', 'KAST': '0.96', 'Impact': '1.23', 'ADR': '1.11', 'Rating 2.0': '1.07'}\n",
      "{'name': \"Dmitry 'S0tF1k' Forostyanko\", 'player_id': 0, 'KPR': '0.92', 'DPR': '0.95', 'KAST': '0.87', 'Impact': '1.08', 'ADR': '0.88', 'Rating 2.0': '0.94'}\n",
      "{'name': \"Robert 'Patsi' Isyanov\", 'player_id': 0, 'KPR': '0.97', 'DPR': '0.91', 'KAST': '0.90', 'Impact': '0.90', 'ADR': '1.00', 'Rating 2.0': '0.94'}\n",
      "{'name': \"Vladislav 'FinigaN' Usov\", 'player_id': 0, 'KPR': '0.48', 'DPR': '1.20', 'KAST': '0.80', 'Impact': '0.67', 'ADR': '0.46', 'Rating 2.0': '0.72'}\n",
      "{'name': \"Kirill 'Gospadarov' Gospadarov\", 'player_id': 16871, 'KPR': '1.33', 'DPR': '1.22', 'KAST': '1.21', 'Impact': '1.18', 'ADR': '1.19', 'Rating 2.0': '1.23'}\n",
      "{'name': \"Valeriy 'B1T' Vakhovskiy\", 'player_id': 18987, 'KPR': '1.32', 'DPR': '1.23', 'KAST': '1.03', 'Impact': '1.19', 'ADR': '1.24', 'Rating 2.0': '1.20'}\n",
      "{'name': \"Eugene 'Aunkere' Karyat\", 'player_id': 14175, 'KPR': '1.09', 'DPR': '1.35', 'KAST': '1.40', 'Impact': '1.05', 'ADR': '1.08', 'Rating 2.0': '1.19'}\n",
      "{'name': \"Alexey 'Topa' Topchienko\", 'player_id': 17008, 'KPR': '0.98', 'DPR': '1.43', 'KAST': '1.21', 'Impact': '1.14', 'ADR': '0.93', 'Rating 2.0': '1.14'}\n",
      "{'name': \"Ivan 'KAPACHO' Koplenko\", 'player_id': 18225, 'KPR': '0.68', 'DPR': '1.28', 'KAST': '1.28', 'Impact': '0.72', 'ADR': '0.79', 'Rating 2.0': '0.95'}\n",
      "\n",
      "map = Overpass:\n",
      "team1 players: Patsi, FinigaN, S0tF1k, degster, Dima, \n",
      "team2 player = Topa, scores = ['0:0', '0:0', '0:0', '0:2', '0:0']\n",
      "team2 player = KAPACHO, scores = ['0:0', '0:0', '0:0', '0:3', '1:0']\n",
      "team2 player = Gospadarov, scores = ['1:0', '2:1', '0:0', '1:3', '0:0']\n",
      "team2 player = B1T, scores = ['0:0', '0:0', '0:0', '0:2', '0:0']\n",
      "team2 player = Aunkere, scores = ['0:0', '0:0', '0:0', '0:1', '0:0']\n",
      "{'name': \"Dmitry 'S0tF1k' Forostyanko\", 'player_id': 0, 'KPR': '1.90', 'DPR': '1.52', 'KAST': '1.34', 'Impact': '1.71', 'ADR': '1.84', 'Rating 2.0': '1.66'}\n",
      "{'name': \"Abdul 'degster' Gasanov\", 'player_id': 0, 'KPR': '1.25', 'DPR': '1.58', 'KAST': '1.22', 'Impact': '1.24', 'ADR': '0.97', 'Rating 2.0': '1.25'}\n",
      "{'name': \"Dmitriy 'Dima' Bandurka\", 'player_id': 0, 'KPR': '0.95', 'DPR': '1.11', 'KAST': '1.25', 'Impact': '1.03', 'ADR': '0.94', 'Rating 2.0': '1.06'}\n",
      "{'name': \"Robert 'Patsi' Isyanov\", 'player_id': 0, 'KPR': '0.81', 'DPR': '0.98', 'KAST': '0.89', 'Impact': '0.55', 'ADR': '1.10', 'Rating 2.0': '0.87'}\n",
      "{'name': \"Vladislav 'FinigaN' Usov\", 'player_id': 0, 'KPR': '0.56', 'DPR': '1.45', 'KAST': '1.06', 'Impact': '0.54', 'ADR': '0.46', 'Rating 2.0': '0.81'}\n",
      "{'name': \"Eugene 'Aunkere' Karyat\", 'player_id': 14175, 'KPR': '1.26', 'DPR': '1.24', 'KAST': '1.33', 'Impact': '1.01', 'ADR': '1.19', 'Rating 2.0': '1.21'}\n",
      "{'name': \"Kirill 'Gospadarov' Gospadarov\", 'player_id': 16871, 'KPR': '1.04', 'DPR': '1.00', 'KAST': '1.18', 'Impact': '0.95', 'ADR': '1.12', 'Rating 2.0': '1.06'}\n",
      "{'name': \"Valeriy 'B1T' Vakhovskiy\", 'player_id': 18987, 'KPR': '0.90', 'DPR': '1.21', 'KAST': '0.99', 'Impact': '0.92', 'ADR': '0.75', 'Rating 2.0': '0.95'}\n",
      "{'name': \"Alexey 'Topa' Topchienko\", 'player_id': 17008, 'KPR': '0.94', 'DPR': '0.86', 'KAST': '0.87', 'Impact': '0.81', 'ADR': '1.06', 'Rating 2.0': '0.91'}\n",
      "{'name': \"Ivan 'KAPACHO' Koplenko\", 'player_id': 18225, 'KPR': '0.52', 'DPR': '0.83', 'KAST': '0.96', 'Impact': '0.56', 'ADR': '0.65', 'Rating 2.0': '0.71'}\n"
     ]
    },
    {
     "name": "stdout",
     "output_type": "stream",
     "text": [
      "\n",
      "map = Dust2:\n",
      "team1 players: Patsi, FinigaN, S0tF1k, degster, Dima, \n",
      "team2 player = Topa, scores = ['0:0', '0:0', '0:0', '0:0', '0:0']\n",
      "team2 player = KAPACHO, scores = ['0:0', '0:0', '0:0', '0:2', '0:0']\n",
      "team2 player = Gospadarov, scores = ['3:0', '1:0', '4:1', '3:1', '2:0']\n",
      "team2 player = B1T, scores = ['0:0', '0:0', '0:0', '1:1', '0:0']\n",
      "team2 player = Aunkere, scores = ['0:0', '0:0', '1:0', '1:2', '0:0']\n",
      "{'name': \"Abdul 'degster' Gasanov\", 'player_id': 0, 'KPR': '1.32', 'DPR': '0.98', 'KAST': '1.24', 'Impact': '1.74', 'ADR': '1.82', 'Rating 2.0': '1.42'}\n",
      "{'name': \"Dmitriy 'Dima' Bandurka\", 'player_id': 0, 'KPR': '1.29', 'DPR': '1.27', 'KAST': '1.04', 'Impact': '1.54', 'ADR': '1.08', 'Rating 2.0': '1.24'}\n",
      "{'name': \"Robert 'Patsi' Isyanov\", 'player_id': 0, 'KPR': '1.33', 'DPR': '1.06', 'KAST': '1.23', 'Impact': '1.48', 'ADR': '1.07', 'Rating 2.0': '1.24'}\n",
      "{'name': \"Vladislav 'FinigaN' Usov\", 'player_id': 0, 'KPR': '0.74', 'DPR': '1.44', 'KAST': '1.07', 'Impact': '0.95', 'ADR': '0.73', 'Rating 2.0': '0.99'}\n",
      "{'name': \"Dmitry 'S0tF1k' Forostyanko\", 'player_id': 0, 'KPR': '0.51', 'DPR': '0.89', 'KAST': '0.80', 'Impact': '0.62', 'ADR': '0.43', 'Rating 2.0': '0.65'}\n",
      "{'name': \"Valeriy 'B1T' Vakhovskiy\", 'player_id': 18987, 'KPR': '1.58', 'DPR': '1.08', 'KAST': '1.03', 'Impact': '1.27', 'ADR': '1.55', 'Rating 2.0': '1.30'}\n",
      "{'name': \"Eugene 'Aunkere' Karyat\", 'player_id': 14175, 'KPR': '0.88', 'DPR': '1.23', 'KAST': '1.43', 'Impact': '1.01', 'ADR': '0.98', 'Rating 2.0': '1.10'}\n",
      "{'name': \"Alexey 'Topa' Topchienko\", 'player_id': 17008, 'KPR': '0.78', 'DPR': '1.39', 'KAST': '1.04', 'Impact': '1.18', 'ADR': '0.58', 'Rating 2.0': '0.99'}\n",
      "{'name': \"Kirill 'Gospadarov' Gospadarov\", 'player_id': 16871, 'KPR': '1.10', 'DPR': '0.94', 'KAST': '1.06', 'Impact': '0.76', 'ADR': '1.00', 'Rating 2.0': '0.97'}\n",
      "{'name': \"Ivan 'KAPACHO' Koplenko\", 'player_id': 18225, 'KPR': '0.73', 'DPR': '1.09', 'KAST': '1.22', 'Impact': '0.66', 'ADR': '0.83', 'Rating 2.0': '0.91'}\n",
      "/stats/matches/74713/espada-vs-navi-junior\n",
      "[{'teamname': 'Espada', 'teammates': [{'player': 'Dima', 'kills': '55 (35)', 'assists': '12 (2)', 'deaths': '52', 'kdratio': '72.7%', 'kddiff': '+3', 'adr': '75.7', 'fkdiff': '+2'}, {'player': 'degster', 'kills': '51 (20)', 'assists': '16 (4)', 'deaths': '54', 'kdratio': '66.2%', 'kddiff': '-3', 'adr': '79.8', 'fkdiff': '+4'}, {'player': 'S0tF1k', 'kills': '47 (30)', 'assists': '18 (7)', 'deaths': '55', 'kdratio': '62.3%', 'kddiff': '-8', 'adr': '67.8', 'fkdiff': '-4'}, {'player': 'Patsi', 'kills': '51 (24)', 'assists': '10 (2)', 'deaths': '57', 'kdratio': '63.6%', 'kddiff': '-6', 'adr': '74.4', 'fkdiff': '-1'}, {'player': 'FinigaN', 'kills': '31 (18)', 'assists': '13 (9)', 'deaths': '50', 'kdratio': '59.7%', 'kddiff': '-19', 'adr': '44.5', 'fkdiff': '-4'}]}, {'teamname': 'NAVI Junior', 'teammates': [{'player': 'Gospadarov', 'kills': '60 (25)', 'assists': '23 (14)', 'deaths': '49', 'kdratio': '75.3%', 'kddiff': '+11', 'adr': '83.3', 'fkdiff': '+6'}, {'player': 'B1T', 'kills': '64 (49)', 'assists': '10 (6)', 'deaths': '47', 'kdratio': '68.8%', 'kddiff': '+17', 'adr': '85.5', 'fkdiff': '-4'}, {'player': 'Aunkere', 'kills': '54 (31)', 'assists': '9 (2)', 'deaths': '48', 'kdratio': '81.8%', 'kddiff': '+6', 'adr': '77.6', 'fkdiff': '+5'}, {'player': 'Topa', 'kills': '52 (35)', 'assists': '16 (9)', 'deaths': '45', 'kdratio': '75.3%', 'kddiff': '+7', 'adr': '70.4', 'fkdiff': '-4'}, {'player': 'KAPACHO', 'kills': '37 (25)', 'assists': '14 (2)', 'deaths': '48', 'kdratio': '77.9%', 'kddiff': '-11', 'adr': '63.4', 'fkdiff': '0'}]}]\n"
     ]
    }
   ],
   "source": [
    "for match_info in match_urls:\n",
    "    match_scrape(browser, match_info)"
   ]
  },
  {
   "cell_type": "code",
   "execution_count": 13,
   "metadata": {},
   "outputs": [],
   "source": [
    "browser.quit()"
   ]
  },
  {
   "cell_type": "code",
   "execution_count": null,
   "metadata": {},
   "outputs": [],
   "source": []
  }
 ],
 "metadata": {
  "kernelspec": {
   "display_name": "mlenv",
   "language": "python",
   "name": "mlenv"
  },
  "language_info": {
   "codemirror_mode": {
    "name": "ipython",
    "version": 3
   },
   "file_extension": ".py",
   "mimetype": "text/x-python",
   "name": "python",
   "nbconvert_exporter": "python",
   "pygments_lexer": "ipython3",
   "version": "3.7.7"
  }
 },
 "nbformat": 4,
 "nbformat_minor": 4
}
